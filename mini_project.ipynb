{
 "cells": [
  {
   "cell_type": "code",
   "execution_count": 34,
   "id": "4b3b8405",
   "metadata": {},
   "outputs": [],
   "source": [
    "import numpy as np\n",
    "from tic_env import TictactoeEnv, OptimalPlayer\n",
    "from math import pow, inf\n",
    "import random\n",
    "from tqdm import tqdm\n",
    "import matplotlib.pyplot as plt"
   ]
  },
  {
   "cell_type": "code",
   "execution_count": 26,
   "id": "d4783b7f",
   "metadata": {},
   "outputs": [],
   "source": [
    "# map a grid/action pair to the index of the corresponding q value in self.qs\n",
    "def sa_to_id(grid,action,player):\n",
    "    # map grid to a 9 digit trinary number, then change the number to decimal, then add action * 3^9, finally add 9*3^9 if player is O\n",
    "    flat_grid = grid.flatten()\n",
    "    digits = np.array([ x+1 for x in flat_grid])\n",
    "    index = 0\n",
    "    for i in range(9):\n",
    "        index += digits[i] * pow(3,i)\n",
    "    index += pow(3,9) * action\n",
    "    if (player == 'O'):\n",
    "        index += 177147\n",
    "    return int(index)\n",
    "\n",
    "\n",
    "class QPlayer:\n",
    "    '''\n",
    "    the player stores the Q value of the grid/action pair when he's X as well as when he's O\n",
    "    not every grid and action are valid. For example, grid where there's 3 O and zero X, or a action that place piece on existing piece.\n",
    "    We keep all available grid and action never the less, for simplicity.\n",
    "    '''\n",
    "    def __init__(self,epsilon=0.2,player='X'):\n",
    "        self.player = player\n",
    "        self.qs = np.zeros(177147*2)\n",
    "        self.previous_q = -1\n",
    "        self.lr = 0.05\n",
    "        self.d_factor = 0.99\n",
    "        self.epsi = epsilon\n",
    "    def set_player(self,player):\n",
    "        self.player = player\n",
    "    def act(self, grid, reward):\n",
    "        #first, find all available actions\n",
    "        actions = [a for a in range(9) if grid[(int(a/3), a % 3)] == 0]\n",
    "        possible_qs = [self.qs[sa_to_id(grid,a,self.player)] for a in actions]\n",
    "        best = np.argmax(possible_qs)\n",
    "        best_a = actions[ best ]\n",
    "        highest_q = possible_qs[best]\n",
    "        #then, update q value from previous time step\n",
    "        if not self.previous_q == -1:\n",
    "            delta = self.lr * (reward + self.d_factor * highest_q - self.qs[self.previous_q])\n",
    "            self.qs[self.previous_q] = self.qs[self.previous_q] + delta\n",
    "        #then, choose a action according to policy, and save current q value's index\n",
    "        if random.uniform(0, 1) > self.epsi:\n",
    "            at = best_a\n",
    "        else:\n",
    "            if len(actions) > 1: actions.pop(best)\n",
    "            at = random.choice(actions)\n",
    "        self.previous_q = sa_to_id(grid,at,self.player)\n",
    "               \n",
    "        return at\n",
    "    def terminal(self, reward):\n",
    "        if self.previous_q == -1:\n",
    "            return\n",
    "        delta = self.lr * (reward + 0 - self.qs[self.previous_q])\n",
    "        self.qs[self.previous_q] = self.qs[self.previous_q] + delta\n",
    "        #set previous_q to -1 because game will restart\n",
    "        self.previous_q = -1\n",
    "        \n",
    "   "
   ]
  },
  {
   "cell_type": "code",
   "execution_count": 27,
   "id": "6f3fe0e8",
   "metadata": {},
   "outputs": [
    {
     "name": "stdout",
     "output_type": "stream",
     "text": [
      "0\n"
     ]
    }
   ],
   "source": [
    "grid = np.array([[1,-1,0],[0,0,1],[-1,0,1]])\n",
    "\n",
    "sa_to_id(grid,0,'X')\n",
    "i = 3\n",
    "\n",
    "print(grid[ (int(i/3), i % 3) ])"
   ]
  },
  {
   "cell_type": "code",
   "execution_count": 28,
   "id": "7b20113f",
   "metadata": {},
   "outputs": [],
   "source": [
    "turns = np.array(['X','O'])"
   ]
  },
  {
   "cell_type": "code",
   "execution_count": 29,
   "id": "8dd4629c",
   "metadata": {},
   "outputs": [
    {
     "name": "stdout",
     "output_type": "stream",
     "text": [
      "['O' 'X']\n"
     ]
    }
   ],
   "source": [
    "turns = turns[[1,0]]\n",
    "print(turns)"
   ]
  },
  {
   "cell_type": "code",
   "execution_count": 30,
   "id": "64a9eb8a",
   "metadata": {},
   "outputs": [],
   "source": [
    "env = TictactoeEnv()\n",
    "turns = np.array(['X','O'])\n",
    "player_opt = OptimalPlayer(epsilon=0.5)\n",
    "player_q = QPlayer(epsilon= 0.5)\n",
    "average_rewards = []\n",
    "period_rewards = []"
   ]
  },
  {
   "cell_type": "code",
   "execution_count": 31,
   "id": "c1d25b4a",
   "metadata": {},
   "outputs": [
    {
     "name": "stderr",
     "output_type": "stream",
     "text": [
      "100%|████████████████████████████████████████████████████████████████████████████| 20000/20000 [01:50<00:00, 180.97it/s]\n"
     ]
    }
   ],
   "source": [
    "for i in tqdm(range(20000)):\n",
    "    #each game\n",
    "    env.reset()\n",
    "    grid, _, __ = env.observe()\n",
    "    turns = turns[[1,0]]\n",
    "    player_opt.set_player(turns[0])\n",
    "    player_q.set_player(turns[1])\n",
    "    for j in range(9):\n",
    "        if env.current_player == player_opt.player:\n",
    "            move = player_opt.act(grid)\n",
    "        else:\n",
    "            move = player_q.act(grid,0)\n",
    "\n",
    "        grid, end, winner = env.step(move, print_grid=False)\n",
    "\n",
    "        if end:\n",
    "            if winner == player_q.player:\n",
    "                reward = 1\n",
    "            elif winner == player_opt.player:\n",
    "                reward = -1\n",
    "            else:\n",
    "                reward = 0\n",
    "            player_q.terminal(reward)\n",
    "            \n",
    "            period_rewards.append(reward)\n",
    "            if len(period_rewards) >= 50:\n",
    "                average_rewards.append(np.mean(period_rewards))\n",
    "                period_rewards = []\n",
    "            break"
   ]
  },
  {
   "cell_type": "code",
   "execution_count": 37,
   "id": "32fa969e",
   "metadata": {},
   "outputs": [
    {
     "data": {
      "text/plain": [
       "<matplotlib.collections.PathCollection at 0x7f313f8ae510>"
      ]
     },
     "execution_count": 37,
     "metadata": {},
     "output_type": "execute_result"
    },
    {
     "data": {
      "image/png": "[encoded data removed]",
      "text/plain": [
       "<Figure size 1152x576 with 1 Axes>"
      ]
     },
     "metadata": {
      "needs_background": "light"
     },
     "output_type": "display_data"
    }
   ],
   "source": [
    "fig,ax = plt.subplots(figsize = (16,8))\n",
    "ax.scatter(range(len(average_rewards)),average_rewards)"
   ]
  },
  {
   "cell_type": "code",
   "execution_count": null,
   "id": "958e9231",
   "metadata": {},
   "outputs": [],
   "source": []
  }
 ],
 "metadata": {
  "kernelspec": {
   "display_name": "CS456",
   "language": "python",
   "name": "cs456"
  },
  "language_info": {
   "codemirror_mode": {
    "name": "ipython",
    "version": 3
   },
   "file_extension": ".py",
   "mimetype": "text/x-python",
   "name": "python",
   "nbconvert_exporter": "python",
   "pygments_lexer": "ipython3",
   "version": "3.7.13"
  }
 },
 "nbformat": 4,
 "nbformat_minor": 5
}
